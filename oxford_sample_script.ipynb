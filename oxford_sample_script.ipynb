{
 "cells": [
  {
   "cell_type": "code",
   "execution_count": 1,
   "metadata": {},
   "outputs": [],
   "source": [
    "import pandas as pd\n",
    "import numpy as np\n",
    "\n",
    "import matplotlib\n",
    "import matplotlib.pyplot as plt\n",
    "import seaborn as sns \n",
    "\n",
    "import re\n",
    "import string\n",
    "import unicodedata\n",
    "\n",
    "import nltk\n",
    "from nltk.corpus import stopwords\n",
    "from nltk import word_tokenize\n",
    "from nltk import word_tokenize, sent_tokenize\n",
    "from nltk.corpus import stopwords\n",
    "from nltk.stem import LancasterStemmer, WordNetLemmatizer\n",
    "\n",
    "from bs4 import BeautifulSoup\n",
    "\n",
    "import os\n",
    "\n",
    "from IPython.core.interactiveshell import InteractiveShell\n",
    "InteractiveShell.ast_node_interactivity = \"all\""
   ]
  },
  {
   "cell_type": "markdown",
   "metadata": {},
   "source": [
    "# Read in the Data"
   ]
  },
  {
   "cell_type": "code",
   "execution_count": 33,
   "metadata": {},
   "outputs": [
    {
     "name": "stdout",
     "output_type": "stream",
     "text": [
      "Wall time: 24.7 s\n"
     ]
    },
    {
     "data": {
      "text/plain": [
       "['Unnamed: 0',\n",
       " 'Visit_ID',\n",
       " 'DateTime',\n",
       " 'Customer_ID',\n",
       " 'Sequence_Num',\n",
       " 'Store_ID',\n",
       " 'Dwell_Time']"
      ]
     },
     "execution_count": 33,
     "metadata": {},
     "output_type": "execute_result"
    },
    {
     "name": "stdout",
     "output_type": "stream",
     "text": [
      "<class 'pandas.core.frame.DataFrame'>\n",
      "RangeIndex: 141628 entries, 0 to 141627\n",
      "Data columns (total 7 columns):\n",
      "Unnamed: 0      141628 non-null int64\n",
      "Visit_ID        141628 non-null int64\n",
      "DateTime        141628 non-null datetime64[ns]\n",
      "Customer_ID     141628 non-null int64\n",
      "Sequence_Num    141628 non-null int64\n",
      "Store_ID        141628 non-null int64\n",
      "Dwell_Time      141628 non-null int64\n",
      "dtypes: datetime64[ns](1), int64(6)\n",
      "memory usage: 7.6 MB\n"
     ]
    },
    {
     "data": {
      "text/plain": [
       "(141628, 7)"
      ]
     },
     "execution_count": 33,
     "metadata": {},
     "output_type": "execute_result"
    },
    {
     "data": {
      "text/html": [
       "<div>\n",
       "<style scoped>\n",
       "    .dataframe tbody tr th:only-of-type {\n",
       "        vertical-align: middle;\n",
       "    }\n",
       "\n",
       "    .dataframe tbody tr th {\n",
       "        vertical-align: top;\n",
       "    }\n",
       "\n",
       "    .dataframe thead th {\n",
       "        text-align: right;\n",
       "    }\n",
       "</style>\n",
       "<table border=\"1\" class=\"dataframe\">\n",
       "  <thead>\n",
       "    <tr style=\"text-align: right;\">\n",
       "      <th></th>\n",
       "      <th>Unnamed: 0</th>\n",
       "      <th>Visit_ID</th>\n",
       "      <th>DateTime</th>\n",
       "      <th>Customer_ID</th>\n",
       "      <th>Sequence_Num</th>\n",
       "      <th>Store_ID</th>\n",
       "      <th>Dwell_Time</th>\n",
       "    </tr>\n",
       "  </thead>\n",
       "  <tbody>\n",
       "    <tr>\n",
       "      <th>0</th>\n",
       "      <td>33416</td>\n",
       "      <td>23440</td>\n",
       "      <td>2018-01-05 06:03:10</td>\n",
       "      <td>22646</td>\n",
       "      <td>2</td>\n",
       "      <td>5079221</td>\n",
       "      <td>127</td>\n",
       "    </tr>\n",
       "    <tr>\n",
       "      <th>1</th>\n",
       "      <td>62767</td>\n",
       "      <td>23603</td>\n",
       "      <td>2018-01-05 06:55:30</td>\n",
       "      <td>22738</td>\n",
       "      <td>4</td>\n",
       "      <td>2</td>\n",
       "      <td>9</td>\n",
       "    </tr>\n",
       "    <tr>\n",
       "      <th>2</th>\n",
       "      <td>37730</td>\n",
       "      <td>23638</td>\n",
       "      <td>2018-01-05 07:02:50</td>\n",
       "      <td>10652</td>\n",
       "      <td>2</td>\n",
       "      <td>4</td>\n",
       "      <td>36</td>\n",
       "    </tr>\n",
       "    <tr>\n",
       "      <th>3</th>\n",
       "      <td>52638</td>\n",
       "      <td>23638</td>\n",
       "      <td>2018-01-05 07:02:50</td>\n",
       "      <td>10652</td>\n",
       "      <td>3</td>\n",
       "      <td>5079256</td>\n",
       "      <td>44</td>\n",
       "    </tr>\n",
       "    <tr>\n",
       "      <th>4</th>\n",
       "      <td>89265</td>\n",
       "      <td>23638</td>\n",
       "      <td>2018-01-05 07:02:50</td>\n",
       "      <td>10652</td>\n",
       "      <td>7</td>\n",
       "      <td>5079256</td>\n",
       "      <td>154</td>\n",
       "    </tr>\n",
       "  </tbody>\n",
       "</table>\n",
       "</div>"
      ],
      "text/plain": [
       "   Unnamed: 0  Visit_ID            DateTime  Customer_ID  Sequence_Num  \\\n",
       "0       33416     23440 2018-01-05 06:03:10        22646             2   \n",
       "1       62767     23603 2018-01-05 06:55:30        22738             4   \n",
       "2       37730     23638 2018-01-05 07:02:50        10652             2   \n",
       "3       52638     23638 2018-01-05 07:02:50        10652             3   \n",
       "4       89265     23638 2018-01-05 07:02:50        10652             7   \n",
       "\n",
       "   Store_ID  Dwell_Time  \n",
       "0   5079221         127  \n",
       "1         2           9  \n",
       "2         4          36  \n",
       "3   5079256          44  \n",
       "4   5079256         154  "
      ]
     },
     "execution_count": 33,
     "metadata": {},
     "output_type": "execute_result"
    },
    {
     "data": {
      "text/html": [
       "<div>\n",
       "<style scoped>\n",
       "    .dataframe tbody tr th:only-of-type {\n",
       "        vertical-align: middle;\n",
       "    }\n",
       "\n",
       "    .dataframe tbody tr th {\n",
       "        vertical-align: top;\n",
       "    }\n",
       "\n",
       "    .dataframe thead th {\n",
       "        text-align: right;\n",
       "    }\n",
       "</style>\n",
       "<table border=\"1\" class=\"dataframe\">\n",
       "  <thead>\n",
       "    <tr style=\"text-align: right;\">\n",
       "      <th></th>\n",
       "      <th>Unnamed: 0</th>\n",
       "      <th>Visit_ID</th>\n",
       "      <th>DateTime</th>\n",
       "      <th>Customer_ID</th>\n",
       "      <th>Sequence_Num</th>\n",
       "      <th>Store_ID</th>\n",
       "      <th>Dwell_Time</th>\n",
       "    </tr>\n",
       "  </thead>\n",
       "  <tbody>\n",
       "    <tr>\n",
       "      <th>141623</th>\n",
       "      <td>59145</td>\n",
       "      <td>3128218</td>\n",
       "      <td>2018-06-27 20:26:00</td>\n",
       "      <td>994683</td>\n",
       "      <td>4</td>\n",
       "      <td>6936483</td>\n",
       "      <td>19</td>\n",
       "    </tr>\n",
       "    <tr>\n",
       "      <th>141624</th>\n",
       "      <td>49366</td>\n",
       "      <td>3128349</td>\n",
       "      <td>2018-06-27 20:34:10</td>\n",
       "      <td>997892</td>\n",
       "      <td>3</td>\n",
       "      <td>9598563</td>\n",
       "      <td>45</td>\n",
       "    </tr>\n",
       "    <tr>\n",
       "      <th>141625</th>\n",
       "      <td>23778</td>\n",
       "      <td>3128637</td>\n",
       "      <td>2018-06-27 20:59:30</td>\n",
       "      <td>1227666</td>\n",
       "      <td>2</td>\n",
       "      <td>9535992</td>\n",
       "      <td>166</td>\n",
       "    </tr>\n",
       "    <tr>\n",
       "      <th>141626</th>\n",
       "      <td>20195</td>\n",
       "      <td>3129116</td>\n",
       "      <td>2018-06-27 22:09:10</td>\n",
       "      <td>1227768</td>\n",
       "      <td>1</td>\n",
       "      <td>5078739</td>\n",
       "      <td>99</td>\n",
       "    </tr>\n",
       "    <tr>\n",
       "      <th>141627</th>\n",
       "      <td>51705</td>\n",
       "      <td>3129116</td>\n",
       "      <td>2018-06-27 22:09:10</td>\n",
       "      <td>1227768</td>\n",
       "      <td>3</td>\n",
       "      <td>9133379</td>\n",
       "      <td>10</td>\n",
       "    </tr>\n",
       "  </tbody>\n",
       "</table>\n",
       "</div>"
      ],
      "text/plain": [
       "        Unnamed: 0  Visit_ID            DateTime  Customer_ID  Sequence_Num  \\\n",
       "141623       59145   3128218 2018-06-27 20:26:00       994683             4   \n",
       "141624       49366   3128349 2018-06-27 20:34:10       997892             3   \n",
       "141625       23778   3128637 2018-06-27 20:59:30      1227666             2   \n",
       "141626       20195   3129116 2018-06-27 22:09:10      1227768             1   \n",
       "141627       51705   3129116 2018-06-27 22:09:10      1227768             3   \n",
       "\n",
       "        Store_ID  Dwell_Time  \n",
       "141623   6936483          19  \n",
       "141624   9598563          45  \n",
       "141625   9535992         166  \n",
       "141626   5078739          99  \n",
       "141627   9133379          10  "
      ]
     },
     "execution_count": 33,
     "metadata": {},
     "output_type": "execute_result"
    }
   ],
   "source": [
    "%time df=pd.read_csv(\"visits_small.csv\", parse_dates=['DateTime'])\n",
    "\n",
    "list(df)\n",
    "df.info()\n",
    "df.shape\n",
    "df.head()\n",
    "df.tail()"
   ]
  },
  {
   "cell_type": "markdown",
   "metadata": {},
   "source": [
    "# EDA"
   ]
  },
  {
   "cell_type": "markdown",
   "metadata": {},
   "source": [
    "## Visits"
   ]
  },
  {
   "cell_type": "code",
   "execution_count": 11,
   "metadata": {},
   "outputs": [
    {
     "data": {
      "text/plain": [
       "1783546"
      ]
     },
     "execution_count": 11,
     "metadata": {},
     "output_type": "execute_result"
    }
   ],
   "source": [
    "# How many Visits?\n",
    "df['Visit_ID'].nunique()"
   ]
  },
  {
   "cell_type": "markdown",
   "metadata": {},
   "source": [
    "## Customers"
   ]
  },
  {
   "cell_type": "code",
   "execution_count": 12,
   "metadata": {},
   "outputs": [
    {
     "data": {
      "text/plain": [
       "534483"
      ]
     },
     "execution_count": 12,
     "metadata": {},
     "output_type": "execute_result"
    }
   ],
   "source": [
    "# How many Customers?\n",
    "df['Customer_ID'].nunique()"
   ]
  },
  {
   "cell_type": "markdown",
   "metadata": {},
   "source": [
    "## Stores"
   ]
  },
  {
   "cell_type": "code",
   "execution_count": 15,
   "metadata": {},
   "outputs": [
    {
     "data": {
      "text/plain": [
       "199"
      ]
     },
     "execution_count": 15,
     "metadata": {},
     "output_type": "execute_result"
    }
   ],
   "source": [
    "# How many Stores?\n",
    "df['Store_ID'].nunique()"
   ]
  },
  {
   "cell_type": "code",
   "execution_count": 27,
   "metadata": {},
   "outputs": [
    {
     "data": {
      "text/plain": [
       "Store_ID\n",
       "5691963        2\n",
       "6624025       24\n",
       "8282348       29\n",
       "9710341       48\n",
       "9467441       59\n",
       "5116053       62\n",
       "5078667       62\n",
       "9548152       67\n",
       "7118221       75\n",
       "9588023       89\n",
       "9561189      100\n",
       "8230775      105\n",
       "5079811      106\n",
       "5163731      107\n",
       "5079547      107\n",
       "5079758      107\n",
       "7926041      120\n",
       "9638086      120\n",
       "8098874      121\n",
       "9254656      136\n",
       "8440027      158\n",
       "5293201      162\n",
       "5079184      162\n",
       "9559741      163\n",
       "9599890      166\n",
       "9635686      168\n",
       "9629876      169\n",
       "6686197      172\n",
       "9605081      172\n",
       "9587881      172\n",
       "           ...  \n",
       "5115739      978\n",
       "5078528     1010\n",
       "5163159     1024\n",
       "5078552     1031\n",
       "5162594     1044\n",
       "7378663     1128\n",
       "5080337     1143\n",
       "5078721     1178\n",
       "5079150     1212\n",
       "5163263     1223\n",
       "5163351     1233\n",
       "9556486     1295\n",
       "9678070     1344\n",
       "5079053     1378\n",
       "9152748     1415\n",
       "3           1471\n",
       "5163221     1490\n",
       "9399994     1503\n",
       "5079221     1529\n",
       "9467635     1641\n",
       "5079942     1874\n",
       "9133379     2053\n",
       "9161901     2126\n",
       "5203456     2215\n",
       "9535992     2248\n",
       "7614638     2476\n",
       "9709631     5138\n",
       "5079256     7361\n",
       "5080089     9185\n",
       "2          13568\n",
       "Length: 199, dtype: int64"
      ]
     },
     "execution_count": 27,
     "metadata": {},
     "output_type": "execute_result"
    }
   ],
   "source": [
    "# Visits per store\n",
    "df.groupby(['Store_ID']).size().sort_values()"
   ]
  },
  {
   "cell_type": "markdown",
   "metadata": {},
   "source": [
    "## Dwell Time"
   ]
  },
  {
   "cell_type": "code",
   "execution_count": 8,
   "metadata": {},
   "outputs": [
    {
     "data": {
      "image/png": "[encoded data removed]",
      "text/plain": [
       "<Figure size 432x288 with 1 Axes>"
      ]
     },
     "metadata": {
      "needs_background": "light"
     },
     "output_type": "display_data"
    }
   ],
   "source": [
    "ax = df['Dwell_Time'].plot.hist(bins=20, alpha=0.5)"
   ]
  },
  {
   "cell_type": "code",
   "execution_count": 30,
   "metadata": {},
   "outputs": [
    {
     "data": {
      "text/plain": [
       "count    141628.000000\n",
       "mean         28.614631\n",
       "std          34.921642\n",
       "min           6.000000\n",
       "25%           9.000000\n",
       "50%          15.000000\n",
       "75%          32.000000\n",
       "max         901.000000\n",
       "Name: Dwell_Time, dtype: float64"
      ]
     },
     "execution_count": 30,
     "metadata": {},
     "output_type": "execute_result"
    }
   ],
   "source": [
    "df['Dwell_Time'].describe()"
   ]
  },
  {
   "cell_type": "markdown",
   "metadata": {},
   "source": [
    "## DateTime"
   ]
  },
  {
   "cell_type": "code",
   "execution_count": 34,
   "metadata": {},
   "outputs": [
    {
     "data": {
      "text/plain": [
       "count                  141628\n",
       "unique                  65808\n",
       "top       2018-04-24 08:58:50\n",
       "freq                       19\n",
       "first     2018-01-01 06:58:50\n",
       "last      2018-06-30 23:12:50\n",
       "Name: DateTime, dtype: object"
      ]
     },
     "execution_count": 34,
     "metadata": {},
     "output_type": "execute_result"
    }
   ],
   "source": [
    "df['DateTime'].describe()"
   ]
  },
  {
   "cell_type": "code",
   "execution_count": 35,
   "metadata": {},
   "outputs": [
    {
     "data": {
      "text/plain": [
       "DateTime\n",
       "2018-01-01 06:58:50    1\n",
       "2018-01-01 09:30:40    2\n",
       "2018-01-01 09:32:30    2\n",
       "2018-01-01 09:48:20    1\n",
       "2018-01-01 10:05:10    1\n",
       "2018-01-01 10:10:40    1\n",
       "2018-01-01 10:28:30    1\n",
       "2018-01-01 10:53:50    3\n",
       "2018-01-01 11:03:20    2\n",
       "2018-01-01 11:11:40    1\n",
       "2018-01-01 11:15:30    5\n",
       "2018-01-01 11:17:00    1\n",
       "2018-01-01 11:19:30    2\n",
       "2018-01-01 11:23:50    1\n",
       "2018-01-01 11:45:20    1\n",
       "2018-01-01 11:46:00    1\n",
       "2018-01-01 11:46:20    1\n",
       "2018-01-01 12:02:50    1\n",
       "2018-01-01 12:03:50    4\n",
       "2018-01-01 12:04:00    1\n",
       "2018-01-01 12:13:50    1\n",
       "2018-01-01 12:16:40    1\n",
       "2018-01-01 12:30:30    1\n",
       "2018-01-01 12:31:30    1\n",
       "2018-01-01 12:42:00    2\n",
       "2018-01-01 12:57:00    2\n",
       "2018-01-01 12:59:00    1\n",
       "2018-01-01 13:05:30    1\n",
       "2018-01-01 13:30:50    2\n",
       "2018-01-01 13:47:20    1\n",
       "                      ..\n",
       "2018-06-30 20:00:10    1\n",
       "2018-06-30 20:00:30    1\n",
       "2018-06-30 20:01:30    1\n",
       "2018-06-30 20:01:40    1\n",
       "2018-06-30 20:01:50    1\n",
       "2018-06-30 20:06:30    1\n",
       "2018-06-30 20:07:00    1\n",
       "2018-06-30 20:07:30    1\n",
       "2018-06-30 20:07:50    2\n",
       "2018-06-30 20:08:10    1\n",
       "2018-06-30 20:08:20    2\n",
       "2018-06-30 20:09:30    1\n",
       "2018-06-30 20:18:20    1\n",
       "2018-06-30 20:19:50    1\n",
       "2018-06-30 20:20:20    3\n",
       "2018-06-30 20:20:40    1\n",
       "2018-06-30 20:22:00    1\n",
       "2018-06-30 20:25:10    1\n",
       "2018-06-30 20:27:00    6\n",
       "2018-06-30 20:31:10    2\n",
       "2018-06-30 20:36:20    2\n",
       "2018-06-30 20:45:50    1\n",
       "2018-06-30 21:02:00    1\n",
       "2018-06-30 21:02:40    1\n",
       "2018-06-30 21:06:50    2\n",
       "2018-06-30 21:10:50    1\n",
       "2018-06-30 21:13:30    1\n",
       "2018-06-30 21:22:30    1\n",
       "2018-06-30 22:27:20    1\n",
       "2018-06-30 23:12:50    1\n",
       "Length: 65808, dtype: int64"
      ]
     },
     "execution_count": 35,
     "metadata": {},
     "output_type": "execute_result"
    }
   ],
   "source": [
    "df.groupby(['DateTime']).size()"
   ]
  },
  {
   "cell_type": "code",
   "execution_count": null,
   "metadata": {},
   "outputs": [],
   "source": []
  }
 ],
 "metadata": {
  "kernelspec": {
   "display_name": "Python 3",
   "language": "python",
   "name": "python3"
  },
  "language_info": {
   "codemirror_mode": {
    "name": "ipython",
    "version": 3
   },
   "file_extension": ".py",
   "mimetype": "text/x-python",
   "name": "python",
   "nbconvert_exporter": "python",
   "pygments_lexer": "ipython3",
   "version": "3.6.4"
  }
 },
 "nbformat": 4,
 "nbformat_minor": 2
}
